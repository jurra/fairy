{
 "cells": [
  {
   "cell_type": "code",
   "execution_count": 26,
   "metadata": {},
   "outputs": [],
   "source": [
    "from config import *\n",
    "from src.articles import *\n"
   ]
  },
  {
   "cell_type": "code",
   "execution_count": 27,
   "metadata": {},
   "outputs": [],
   "source": [
    "FIX = './tests/fixtures/' # Fixtures path"
   ]
  },
  {
   "cell_type": "code",
   "execution_count": 28,
   "metadata": {},
   "outputs": [],
   "source": [
    "import random\n",
    "def create_file(n,d, file_name):\n",
    "    f = open(f'./tests/fixtures/{file_name}', 'w')\n",
    "    for i in range(n):\n",
    "        nums = [str(round(random.uniform(0, 1000 * 10), 3)) for j in range(d)]\n",
    "        f.write(' '.join(nums))\n",
    "        f.write('\\n')\n",
    "    f.close()"
   ]
  },
  {
   "cell_type": "code",
   "execution_count": 29,
   "metadata": {},
   "outputs": [],
   "source": [
    "create_file(1000,10,\"small_file\")"
   ]
  },
  {
   "cell_type": "code",
   "execution_count": 30,
   "metadata": {},
   "outputs": [
    {
     "name": "stdout",
     "output_type": "stream",
     "text": [
      "Created article: https://api.figshare.com/v2/account/articles/19184381 \n",
      "\n",
      "Initiated file upload: https://api.figshare.com/v2/account/articles/19184381/files/34086512 \n",
      "\n"
     ]
    }
   ],
   "source": [
    "new_article = create_article(\"Starwars\")\n",
    "new_article = json.loads(new_article.content)\n",
    "new_article\n",
    "file_info = initiate_new_upload(new_article['entity_id'], './tests/fixtures/small_file')\n",
    "file_info = json.loads(file_info.content)"
   ]
  },
  {
   "cell_type": "code",
   "execution_count": 31,
   "metadata": {},
   "outputs": [
    {
     "name": "stdout",
     "output_type": "stream",
     "text": [
      "https://fup100010.figshare.com/upload/3b7382bf-45e1-451d-9db2-d5abe03542d8\n"
     ]
    }
   ],
   "source": [
    "upload_url = raw_issue_request('GET', file_info['location'])\n",
    "upload_url = json.loads(upload_url.content)\n",
    "# Gets the upload url from file location\n",
    "upload_url = upload_url['upload_url']\n",
    "\n",
    "print(upload_url)"
   ]
  },
  {
   "cell_type": "code",
   "execution_count": 32,
   "metadata": {},
   "outputs": [
    {
     "data": {
      "text/plain": [
       "1"
      ]
     },
     "execution_count": 32,
     "metadata": {},
     "output_type": "execute_result"
    }
   ],
   "source": [
    "upload = raw_issue_request('GET', upload_url)\n",
    "upload = json.loads(upload.content)\n",
    "\n",
    "len(upload['parts'])"
   ]
  },
  {
   "cell_type": "code",
   "execution_count": 34,
   "metadata": {},
   "outputs": [
    {
     "name": "stdout",
     "output_type": "stream",
     "text": [
      "Uploading parts:\n",
      "https://fup100310.figshare.com/upload/3b7382bf-45e1-451d-9db2-d5abe03542d8/1\n"
     ]
    },
    {
     "ename": "KeyError",
     "evalue": "'name'",
     "output_type": "error",
     "traceback": [
      "\u001b[0;31m---------------------------------------------------------------------------\u001b[0m",
      "\u001b[0;31mKeyError\u001b[0m                                  Traceback (most recent call last)",
      "\u001b[0;32m<ipython-input-34-aa061183c3eb>\u001b[0m in \u001b[0;36m<module>\u001b[0;34m\u001b[0m\n\u001b[0;32m----> 1\u001b[0;31m \u001b[0mupload_parts\u001b[0m\u001b[0;34m(\u001b[0m\u001b[0mfile_info\u001b[0m\u001b[0;34m,\u001b[0m \u001b[0;34m'./tests/fixtures/small_file'\u001b[0m\u001b[0;34m)\u001b[0m\u001b[0;34m\u001b[0m\u001b[0;34m\u001b[0m\u001b[0m\n\u001b[0m",
      "\u001b[0;32m~/work/projects/2022-JupyFAIR/fairy/src/articles.py\u001b[0m in \u001b[0;36mupload_parts\u001b[0;34m(file_info, file_path)\u001b[0m\n\u001b[1;32m    125\u001b[0m         \u001b[0;32mfor\u001b[0m \u001b[0mpart\u001b[0m \u001b[0;32min\u001b[0m \u001b[0mupload\u001b[0m\u001b[0;34m[\u001b[0m\u001b[0;34m'parts'\u001b[0m\u001b[0;34m]\u001b[0m\u001b[0;34m:\u001b[0m\u001b[0;34m\u001b[0m\u001b[0;34m\u001b[0m\u001b[0m\n\u001b[1;32m    126\u001b[0m             \u001b[0mupload_part\u001b[0m\u001b[0;34m(\u001b[0m\u001b[0mupload_url\u001b[0m\u001b[0;34m,\u001b[0m \u001b[0mfin\u001b[0m\u001b[0;34m,\u001b[0m \u001b[0mpart\u001b[0m\u001b[0;34m)\u001b[0m\u001b[0;34m\u001b[0m\u001b[0;34m\u001b[0m\u001b[0m\n\u001b[0;32m--> 127\u001b[0;31m \u001b[0;34m\u001b[0m\u001b[0m\n\u001b[0m\u001b[1;32m    128\u001b[0m     \u001b[0;31m# TODO: return a response of success\u001b[0m\u001b[0;34m\u001b[0m\u001b[0;34m\u001b[0m\u001b[0;34m\u001b[0m\u001b[0m\n\u001b[1;32m    129\u001b[0m \u001b[0;34m\u001b[0m\u001b[0m\n",
      "\u001b[0;32m~/work/projects/2022-JupyFAIR/fairy/src/articles.py\u001b[0m in \u001b[0;36mupload_part\u001b[0;34m(upload_url, stream, part)\u001b[0m\n\u001b[1;32m    103\u001b[0m     \u001b[0mraw_issue_request\u001b[0m\u001b[0;34m(\u001b[0m\u001b[0;34m'PUT'\u001b[0m\u001b[0;34m,\u001b[0m \u001b[0murl\u001b[0m\u001b[0;34m,\u001b[0m \u001b[0mdata\u001b[0m\u001b[0;34m=\u001b[0m\u001b[0mdata\u001b[0m\u001b[0;34m,\u001b[0m \u001b[0mbinary\u001b[0m\u001b[0;34m=\u001b[0m\u001b[0;32mTrue\u001b[0m\u001b[0;34m)\u001b[0m\u001b[0;34m\u001b[0m\u001b[0;34m\u001b[0m\u001b[0m\n\u001b[1;32m    104\u001b[0m     \u001b[0mprint\u001b[0m \u001b[0;34m(\u001b[0m\u001b[0;34mf'Uploaded part{part[\"partNo\"]} from {part[\"startOffset\"]} to {part[\"endOffset\"]}'\u001b[0m\u001b[0;34m)\u001b[0m\u001b[0;34m\u001b[0m\u001b[0;34m\u001b[0m\u001b[0m\n\u001b[0;32m--> 105\u001b[0;31m \u001b[0;34m\u001b[0m\u001b[0m\n\u001b[0m\u001b[1;32m    106\u001b[0m \u001b[0;32mdef\u001b[0m \u001b[0mupload_parts\u001b[0m\u001b[0;34m(\u001b[0m\u001b[0mfile_info\u001b[0m\u001b[0;34m,\u001b[0m \u001b[0mfile_path\u001b[0m\u001b[0;34m)\u001b[0m\u001b[0;34m:\u001b[0m\u001b[0;34m\u001b[0m\u001b[0;34m\u001b[0m\u001b[0m\n\u001b[1;32m    107\u001b[0m     \"\"\"\n",
      "\u001b[0;31mKeyError\u001b[0m: 'name'"
     ]
    }
   ],
   "source": [
    "upload_parts(file_info, './tests/fixtures/small_file')"
   ]
  }
 ],
 "metadata": {
  "interpreter": {
   "hash": "7d328f03bbba0106a762dec79919464af013d21d79cf7e623090d0873f212c3a"
  },
  "kernelspec": {
   "display_name": "Python 3.9.5 ('.venv': venv)",
   "name": "python3"
  },
  "language_info": {
   "codemirror_mode": {
    "name": "ipython",
    "version": 3
   },
   "file_extension": ".py",
   "mimetype": "text/x-python",
   "name": "python",
   "nbconvert_exporter": "python",
   "pygments_lexer": "ipython3",
   "version": "3.9.5"
  },
  "orig_nbformat": 4
 },
 "nbformat": 4,
 "nbformat_minor": 2
}
