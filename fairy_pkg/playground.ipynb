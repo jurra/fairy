{
 "cells": [
  {
   "cell_type": "code",
   "execution_count": 1,
   "metadata": {},
   "outputs": [],
   "source": [
    "from config import *\n",
    "from src.articles import *\n"
   ]
  },
  {
   "cell_type": "code",
   "execution_count": 2,
   "metadata": {},
   "outputs": [],
   "source": [
    "FIX = './tests/fixtures/' # Fixtures path"
   ]
  },
  {
   "cell_type": "code",
   "execution_count": 3,
   "metadata": {},
   "outputs": [],
   "source": [
    "import random\n",
    "def create_file(n,d, file_name):\n",
    "    f = open(f'./tests/fixtures/{file_name}', 'w')\n",
    "    for i in range(n):\n",
    "        nums = [str(round(random.uniform(0, 1000 * 10), 3)) for j in range(d)]\n",
    "        f.write(' '.join(nums))\n",
    "        f.write('\\n')\n",
    "    f.close()"
   ]
  },
  {
   "cell_type": "code",
   "execution_count": 4,
   "metadata": {},
   "outputs": [],
   "source": [
    "create_file(1000,10,\"small_file\")"
   ]
  },
  {
   "cell_type": "code",
   "execution_count": 5,
   "metadata": {},
   "outputs": [
    {
     "name": "stdout",
     "output_type": "stream",
     "text": [
      "Created article: https://api.figshare.com/v2/account/articles/19184384 \n",
      "\n",
      "Initiated file upload: https://api.figshare.com/v2/account/articles/19184384/files/34086515 \n",
      "\n"
     ]
    }
   ],
   "source": [
    "new_article = create_article(\"Starwars\")\n",
    "new_article = json.loads(new_article.content)\n",
    "new_article\n",
    "file_info = initiate_new_upload(new_article['entity_id'], './tests/fixtures/small_file')\n",
    "file_info = json.loads(file_info.content)"
   ]
  },
  {
   "cell_type": "code",
   "execution_count": 6,
   "metadata": {},
   "outputs": [
    {
     "name": "stdout",
     "output_type": "stream",
     "text": [
      "https://fup100310.figshare.com/upload/f36e0442-5de2-4f5d-9c3d-770daf826817\n"
     ]
    }
   ],
   "source": [
    "upload_url = raw_issue_request('GET', file_info['location'])\n",
    "upload_url = json.loads(upload_url.content)\n",
    "# Gets the upload url from file location\n",
    "upload_url = upload_url['upload_url']\n",
    "\n",
    "print(upload_url)"
   ]
  },
  {
   "cell_type": "code",
   "execution_count": 7,
   "metadata": {},
   "outputs": [
    {
     "data": {
      "text/plain": [
       "1"
      ]
     },
     "execution_count": 7,
     "metadata": {},
     "output_type": "execute_result"
    }
   ],
   "source": [
    "upload = raw_issue_request('GET', upload_url)\n",
    "upload = json.loads(upload.content)\n",
    "\n",
    "len(upload['parts'])"
   ]
  },
  {
   "cell_type": "code",
   "execution_count": 8,
   "metadata": {},
   "outputs": [
    {
     "name": "stdout",
     "output_type": "stream",
     "text": [
      "Uploading parts:\n",
      "https://fup100310.figshare.com/upload/f36e0442-5de2-4f5d-9c3d-770daf826817/1\n",
      "Uploaded part1 from 0 to 87805\n"
     ]
    }
   ],
   "source": [
    "upload_parts(file_info, './tests/fixtures/small_file')"
   ]
  }
 ],
 "metadata": {
  "interpreter": {
   "hash": "7d328f03bbba0106a762dec79919464af013d21d79cf7e623090d0873f212c3a"
  },
  "kernelspec": {
   "display_name": "Python 3.9.5 ('.venv': venv)",
   "name": "python3"
  },
  "language_info": {
   "codemirror_mode": {
    "name": "ipython",
    "version": 3
   },
   "file_extension": ".py",
   "mimetype": "text/x-python",
   "name": "python",
   "nbconvert_exporter": "python",
   "pygments_lexer": "ipython3",
   "version": "3.9.5"
  },
  "orig_nbformat": 4
 },
 "nbformat": 4,
 "nbformat_minor": 2
}
